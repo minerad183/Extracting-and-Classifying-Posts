{
 "cells": [
  {
   "cell_type": "markdown",
   "id": "e03f23e4",
   "metadata": {},
   "source": [
    "# Multi-Nomial Classification Model\n",
    "\n",
    "This notebook is to create the prediction model for user input on the application. Since the data has already been clustered, a classification model will be trained to pick up the values in the clusters based on the observation's vectorized text information."
   ]
  },
  {
   "cell_type": "code",
   "execution_count": 1,
   "id": "9b721a7d",
   "metadata": {},
   "outputs": [],
   "source": [
    "# pip install imblearn"
   ]
  },
  {
   "cell_type": "code",
   "execution_count": 2,
   "id": "213114ee",
   "metadata": {},
   "outputs": [],
   "source": [
    "# Imports\n",
    "from sklearn.model_selection import cross_val_score, RepeatedStratifiedKFold, train_test_split, GridSearchCV, cross_val_predict\n",
    "from sklearn.linear_model import LogisticRegression\n",
    "from sklearn.feature_extraction.text import TfidfVectorizer\n",
    "from sklearn.naive_bayes import BernoulliNB\n",
    "from sklearn.metrics import balanced_accuracy_score, confusion_matrix, ConfusionMatrixDisplay\n",
    "from imblearn.pipeline import Pipeline\n",
    "from imblearn.over_sampling import RandomOverSampler\n",
    "from sklearn.ensemble import RandomForestClassifier, ExtraTreesClassifier, AdaBoostClassifier, StackingRegressor\n",
    "\n",
    "from nltk.corpus import stopwords\n",
    "from nltk.stem import SnowballStemmer\n",
    "import re\n",
    "\n",
    "import pandas as pd\n",
    "import numpy as np\n",
    "import matplotlib.pyplot as plt\n",
    "\n",
    "import os\n",
    "import pickle\n",
    "import numpy as np"
   ]
  },
  {
   "cell_type": "code",
   "execution_count": 3,
   "id": "1fc08b34",
   "metadata": {},
   "outputs": [],
   "source": [
    "#Read in the cluster data from the previous notebook model\n",
    "geoconfirmed_clusters = pd.read_csv('../data/get_geoconfirmed_data_clusters.csv')"
   ]
  },
  {
   "cell_type": "code",
   "execution_count": 4,
   "id": "43b2d964",
   "metadata": {},
   "outputs": [
    {
     "data": {
      "image/png": "[encoded data removed]",
      "text/plain": [
       "<Figure size 1000x1000 with 1 Axes>"
      ]
     },
     "metadata": {},
     "output_type": "display_data"
    }
   ],
   "source": [
    "#Plot number of posts by cluster\n",
    "\n",
    "plt.figure(figsize=(10,10))\n",
    "geoconfirmed_clusters.groupby('clusters').size().sort_values(ascending=False).plot.bar()\n",
    "plt.xticks(rotation=0)\n",
    "plt.xlabel(\"Cluster number\")\n",
    "plt.ylabel(\"Number of posts\")\n",
    "plt.show()"
   ]
  },
  {
   "cell_type": "code",
   "execution_count": 5,
   "id": "db146d6e",
   "metadata": {},
   "outputs": [],
   "source": [
    "stpwrd = stopwords.words('english')\n",
    "new_stopwords = [\"twitter\", 'geoconfirmed', 'com', 'br', 'https', 'geo', 'png',\n",
    "                 'status', 'vid', 'f', 'jan', 'feb', 'mar', 'apr', 'may', 'jun', 'jul', 'aug', \n",
    "                'sep', 'oct', 'nov', 'dec', 'Æ', 'ô', 'ö', 'ò', 'û', 'ù', 'ÿ', 'á', 'í', 'ó', 'ú', 'ñ', 'Ñ', 'Š', 'š', 'ý', 'ü',\n",
    "                'õ', 'ð', 'ã', 'Ý', 'Ü', 'Û', 'Ú', 'Ù', 'Ï', 'Î', 'Í', 'Ì', 'Ë', 'Ê', 'É', 'È', 'Å', 'Ä', 'Ã', 'Â', 'Á', 'À', 'Ö', 'Õ', 'Ô','Ó', 'Ò',\n",
    "                'ÂƒÆ', 'â', 'Âƒâ', 'šâ', 'šÂ', 'Ž', 'žÂ', 'ÃƒÆ', 'Ãƒâ', 'ƒ', 'šÃ'  ] #add update to this\n",
    "stpwrd.extend(new_stopwords)"
   ]
  },
  {
   "cell_type": "code",
   "execution_count": 6,
   "id": "7dff188c",
   "metadata": {},
   "outputs": [],
   "source": [
    "def review_to_wordlist(review, remove_stopwords=True):\n",
    "    # Clean the text, with the option to remove stopwords.\n",
    "    \n",
    "    # Convert words to lower case and split them\n",
    "    words = review.lower().split()\n",
    "\n",
    "    # Optionally remove stop words (true by default)\n",
    "    if remove_stopwords:\n",
    "        words = [w for w in words if not w in stpwrd]\n",
    "    \n",
    "    review_text = \" \".join(words)\n",
    "\n",
    "    # Clean the text\n",
    "    review_text = re.sub(r\"[^A-Za-z0-9(),!.?\\'\\`]\", \" \", review_text)\n",
    "    review_text = re.sub(r\"\\'s\", \" 's \", review_text)\n",
    "    review_text = re.sub(r\"\\'ve\", \" 've \", review_text)\n",
    "    review_text = re.sub(r\"n\\'t\", \" 't \", review_text)\n",
    "    review_text = re.sub(r\"\\'re\", \" 're \", review_text)\n",
    "    review_text = re.sub(r\"\\'d\", \" 'd \", review_text)\n",
    "    review_text = re.sub(r\"\\'ll\", \" 'll \", review_text)\n",
    "    review_text = re.sub(r\",\", \" \", review_text)\n",
    "    review_text = re.sub(r\"\\.\", \" \", review_text)\n",
    "    review_text = re.sub(r\"!\", \" \", review_text)\n",
    "    review_text = re.sub(r\"\\(\", \" ( \", review_text)\n",
    "    review_text = re.sub(r\"\\)\", \" ) \", review_text)\n",
    "    review_text = re.sub(r\"\\?\", \" \", review_text)\n",
    "    review_text = re.sub(r\"\\s{2,}\", \" \", review_text)\n",
    "    review_text = re.sub(r\"\\s{2,}\", \" \", review_text)\n",
    "    for i in new_stopwords:\n",
    "        review_text = re.sub(i, \" \", review_text)\n",
    "    words = review_text.split()\n",
    "    \n",
    "    # Shorten words to their stems\n",
    "    stemmer = SnowballStemmer('english', ignore_stopwords = True)\n",
    "    stemmed_words = [stemmer.stem(word) for word in words]\n",
    "    \n",
    "    review_text = \" \".join(stemmed_words)\n",
    "    \n",
    "    # Return a list of words\n",
    "    return(review_text)"
   ]
  },
  {
   "cell_type": "code",
   "execution_count": 36,
   "id": "dc61b735",
   "metadata": {},
   "outputs": [],
   "source": [
    "#review text and create a dataframe of post features, just doing it for geoconfirmed right now\n",
    "postfeatures = []\n",
    "\n",
    "for i in geoconfirmed_clusters['list_text']:\n",
    "    postfeatures.append(review_to_wordlist(i, remove_stopwords=True))"
   ]
  },
  {
   "cell_type": "code",
   "execution_count": 8,
   "id": "2b333416",
   "metadata": {},
   "outputs": [],
   "source": [
    "#Vectorize them\n",
    "vectorizer = TfidfVectorizer(stop_words='english')\n",
    "X = vectorizer.fit_transform(postfeatures)"
   ]
  },
  {
   "cell_type": "code",
   "execution_count": 9,
   "id": "0676ac2e",
   "metadata": {},
   "outputs": [],
   "source": [
    "# Start to build the model. I am using this guide for assistance\n",
    "# https://machinelearningmastery.com/multinomial-logistic-regression-with-python/\n",
    "y = geoconfirmed_clusters['clusters']"
   ]
  },
  {
   "cell_type": "code",
   "execution_count": 10,
   "id": "9eb11e7f",
   "metadata": {},
   "outputs": [
    {
     "data": {
      "text/plain": [
       "1    0.374047\n",
       "5    0.180502\n",
       "4    0.167680\n",
       "3    0.147452\n",
       "6    0.057257\n",
       "2    0.040787\n",
       "0    0.032276\n",
       "Name: clusters, dtype: float64"
      ]
     },
     "execution_count": 10,
     "metadata": {},
     "output_type": "execute_result"
    }
   ],
   "source": [
    "# Get baseline accuracy reading\n",
    "y.value_counts(normalize = True) #have to beat 37 percent"
   ]
  },
  {
   "cell_type": "code",
   "execution_count": 11,
   "id": "83b35a9b",
   "metadata": {},
   "outputs": [],
   "source": [
    "#Train-test-split the X, y to help evaluate performance\n",
    "X_train, X_test, y_train, y_test = train_test_split(X, y, random_state = 42)"
   ]
  },
  {
   "cell_type": "code",
   "execution_count": 12,
   "id": "3d132f79",
   "metadata": {},
   "outputs": [
    {
     "name": "stdout",
     "output_type": "stream",
     "text": [
      "Mean Accuracy: 0.960 (0.007)\n"
     ]
    }
   ],
   "source": [
    "# define the multinomial logistic regression model\n",
    "model = LogisticRegression(multi_class='multinomial', solver='lbfgs')\n",
    "# define the model evaluation procedure\n",
    "cv = RepeatedStratifiedKFold(n_splits=10, n_repeats=3, random_state=1)\n",
    "n_scores = cross_val_score(model, X_train, y_train, scoring='accuracy', cv=cv, n_jobs=-1)\n",
    "print('Mean Accuracy: %.3f (%.3f)' % (np.mean(n_scores), np.std(n_scores)))"
   ]
  },
  {
   "cell_type": "code",
   "execution_count": 13,
   "id": "f6234a7d",
   "metadata": {},
   "outputs": [
    {
     "name": "stdout",
     "output_type": "stream",
     "text": [
      "Logistic Regression Accuracy: 0.9948415622697127\n",
      "Logistic Regression Accuracy: 0.9633068081343943\n"
     ]
    }
   ],
   "source": [
    "model.fit(X_train, y_train)\n",
    "print(f'Logistic Regression Accuracy: {model.score(X_train, y_train)}')\n",
    "print(f'Logistic Regression Accuracy: {model.score(X_test, y_test)}')"
   ]
  },
  {
   "cell_type": "code",
   "execution_count": 14,
   "id": "4e17336e",
   "metadata": {},
   "outputs": [],
   "source": [
    "# With these accuracy scores, I am fine with how the model turns out.\n",
    "# Pickle this\n",
    "with open(\"../data/class_model.pkl\", 'wb') as picklefile:\n",
    "    pickle.dump(model, picklefile)"
   ]
  }
 ],
 "metadata": {
  "kernelspec": {
   "display_name": "Python 3 (ipykernel)",
   "language": "python",
   "name": "python3"
  },
  "language_info": {
   "codemirror_mode": {
    "name": "ipython",
    "version": 3
   },
   "file_extension": ".py",
   "mimetype": "text/x-python",
   "name": "python",
   "nbconvert_exporter": "python",
   "pygments_lexer": "ipython3",
   "version": "3.9.16"
  }
 },
 "nbformat": 4,
 "nbformat_minor": 5
}
