{
 "cells": [
  {
   "cell_type": "markdown",
   "id": "1033ab3a",
   "metadata": {},
   "source": [
    "# Gathering from GeoConfirmed Sudan Data\n",
    "Author: Adam Miner"
   ]
  },
  {
   "cell_type": "code",
   "execution_count": 2,
   "id": "3053b6cf",
   "metadata": {},
   "outputs": [],
   "source": [
    "import requests as re\n",
    "import pandas as pd\n",
    "import json"
   ]
  },
  {
   "cell_type": "code",
   "execution_count": 3,
   "id": "166733f1",
   "metadata": {},
   "outputs": [
    {
     "data": {
      "text/plain": [
       "200"
      ]
     },
     "execution_count": 3,
     "metadata": {},
     "output_type": "execute_result"
    }
   ],
   "source": [
    "res = re.get('https://geoconfirmed.azurewebsites.net/api/placemark/sahel')\n",
    "\n",
    "res.status_code"
   ]
  },
  {
   "cell_type": "code",
   "execution_count": 4,
   "id": "63771a0a",
   "metadata": {},
   "outputs": [],
   "source": [
    "geoconfirmed_json = res.json()"
   ]
  },
  {
   "cell_type": "code",
   "execution_count": 5,
   "id": "217ba9c1",
   "metadata": {},
   "outputs": [
    {
     "data": {
      "text/plain": [
       "list"
      ]
     },
     "execution_count": 5,
     "metadata": {},
     "output_type": "execute_result"
    }
   ],
   "source": [
    "type(geoconfirmed_json)"
   ]
  },
  {
   "cell_type": "code",
   "execution_count": 7,
   "id": "28c79aef",
   "metadata": {},
   "outputs": [
    {
     "data": {
      "text/plain": [
       "43"
      ]
     },
     "execution_count": 7,
     "metadata": {},
     "output_type": "execute_result"
    }
   ],
   "source": [
    "len(geoconfirmed_json)"
   ]
  },
  {
   "cell_type": "markdown",
   "id": "0c7d1a66",
   "metadata": {},
   "source": [
    "43 records in Sudan as of April 21, 2023"
   ]
  },
  {
   "cell_type": "code",
   "execution_count": 29,
   "id": "516f448f",
   "metadata": {},
   "outputs": [
    {
     "data": {
      "text/plain": [
       "{'id': '0054ee42-6a19-4528-5e43-08db3ea1a80e',\n",
       " 'date': '2023-04-16T17:00:00',\n",
       " 'name': '16 1700 APR 2023',\n",
       " 'description': '2 Destroyed Il-76 Aircraft on fire at Khartoum AIrport JG2X+R5P Khartoum, Sudan',\n",
       " 'coordinates': [15.602091, 32.547951],\n",
       " 'icon': '_CIRCLES_AC7339_NEUTRAL_56_82.png',\n",
       " 'originalSource': 'https://twitter.com/thewarzonewire/status/1647663661576777728 https://twitter.com/JacdecNew/status/1647932349902905345',\n",
       " 'units': 'Rapid Support Forces',\n",
       " 'origin': 2,\n",
       " 'allGeolocations': True,\n",
       " 'gear': '2x Il-76 Aircraft'}"
      ]
     },
     "execution_count": 29,
     "metadata": {},
     "output_type": "execute_result"
    }
   ],
   "source": [
    "geoconfirmed_json[20] #just checking to see the list structure"
   ]
  },
  {
   "cell_type": "code",
   "execution_count": 32,
   "id": "87725256",
   "metadata": {},
   "outputs": [],
   "source": [
    "#break apart the nested coordinate list when getting ready to export and merge\n",
    "latitude = []\n",
    "longitude = []\n",
    "geo_id = []\n",
    "date = []\n",
    "name = []\n",
    "description = []\n",
    "icon = []\n",
    "originalSource = []\n",
    "units = []\n",
    "origin = []\n",
    "allGeolocations = []\n",
    "gear = []\n",
    "geolocation = []\n",
    "\n",
    "for i in geoconfirmed_json:    \n",
    "    latitude.append(i['coordinates'][1])\n",
    "    longitude.append(i['coordinates'][0])\n",
    "    geo_id.append(i['id'])\n",
    "    date.append(i['date'])\n",
    "    name.append(i['name'])\n",
    "    description.append(i['description'])\n",
    "    icon.append(i['icon'])\n",
    "    originalSource.append(i['originalSource'])\n",
    "    units.append(i['units'])\n",
    "    origin.append(i['origin'])\n",
    "    allGeolocations.append(i['allGeolocations'])\n",
    "    gear.append(i['gear'])\n",
    "    \n",
    "#geolocation column is not in every record, adjust query to add none geolocation\n",
    "for i in geoconfirmed_json:\n",
    "    if 'geolocations' in i.keys():\n",
    "        geolocation.append(i['geolocation'])\n",
    "    else:\n",
    "        geolocation.append('None')"
   ]
  },
  {
   "cell_type": "code",
   "execution_count": 33,
   "id": "91dc5ead",
   "metadata": {},
   "outputs": [],
   "source": [
    "geoconfirmed_df = pd.DataFrame({'geo_id': geo_id, 'latitude': latitude, 'longitude': longitude,\n",
    "                               'date': date, 'name': name, 'description': description,\n",
    "                               'icon': icon, 'originalSource': originalSource, 'geolocation': geolocation,\n",
    "                               'units': units, 'origin': origin, 'allGeolocations': allGeolocations, 'gear': gear})"
   ]
  },
  {
   "cell_type": "code",
   "execution_count": 36,
   "id": "942512b5",
   "metadata": {},
   "outputs": [],
   "source": [
    "geoconfirmed_df.to_csv('./sudan_geoconfirmed_df.csv', index = False)"
   ]
  },
  {
   "cell_type": "code",
   "execution_count": null,
   "id": "cbd16ea7",
   "metadata": {},
   "outputs": [],
   "source": []
  }
 ],
 "metadata": {
  "kernelspec": {
   "display_name": "Python 3 (ipykernel)",
   "language": "python",
   "name": "python3"
  },
  "language_info": {
   "codemirror_mode": {
    "name": "ipython",
    "version": 3
   },
   "file_extension": ".py",
   "mimetype": "text/x-python",
   "name": "python",
   "nbconvert_exporter": "python",
   "pygments_lexer": "ipython3",
   "version": "3.9.13"
  }
 },
 "nbformat": 4,
 "nbformat_minor": 5
}
