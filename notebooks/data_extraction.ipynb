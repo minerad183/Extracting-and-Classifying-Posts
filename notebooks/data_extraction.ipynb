{
 "cells": [
  {
   "cell_type": "code",
   "execution_count": 1,
   "id": "ad84ac9c",
   "metadata": {},
   "outputs": [],
   "source": [
    "import requests as re\n",
    "from geo_extractor import get_bellingcat_data, get_ceninfores_data, get_defmon_data\\\n",
    "    , get_defmon_spreadsheet_data, get_geoconfirmed_data, get_texty_data, extractors, TextyExtractor\n",
    "import pandas as pd\n",
    "import json"
   ]
  },
  {
   "cell_type": "code",
   "execution_count": 27,
   "id": "87a260c0",
   "metadata": {},
   "outputs": [],
   "source": [
    "db_list_func = [get_bellingcat_data(), get_ceninfores_data(), get_defmon_data(), \n",
    "                get_defmon_spreadsheet_data(), get_geoconfirmed_data(), get_texty_data()\n",
    "               ]"
   ]
  },
  {
   "cell_type": "code",
   "execution_count": 28,
   "id": "51489d26",
   "metadata": {},
   "outputs": [],
   "source": [
    "db_str_func = ['get_bellingcat_data', 'get_ceninfores_data', 'get_defmon_data', \n",
    "                'get_defmon_spreadsheet_data', 'get_geoconfirmed_data', 'get_texty_data'\n",
    "               ]"
   ]
  },
  {
   "cell_type": "code",
   "execution_count": 29,
   "id": "63857ce7",
   "metadata": {},
   "outputs": [
    {
     "name": "stdout",
     "output_type": "stream",
     "text": [
      "size (1115, 10)\n",
      "size (10006, 10)\n",
      "size (0, 0)\n",
      "size (19272, 10)\n",
      "size (9047, 10)\n",
      "size (25884, 10)\n"
     ]
    }
   ],
   "source": [
    "#size of dbs\n",
    "for i in db_list_func:\n",
    "    events_df = pd.DataFrame(i)\n",
    "    print(f\"size {events_df.shape}\")"
   ]
  },
  {
   "cell_type": "markdown",
   "id": "b4173b6a",
   "metadata": {},
   "source": [
    "Shape of dbs in above list function - April 3, 2023\n",
    "- size (1079, 9)\n",
    "- size (9608, 9)\n",
    "- size (0, 0)\n",
    "- size (19272, 9)\n",
    "- size (8110, 9)\n",
    "- size (24398, 9)\n",
    "\n",
    "Shape of dbs in above list function - April 4, 2023\n",
    "- size (1083, 9)\n",
    "- size (9608, 9)\n",
    "- size (0, 0)\n",
    "- size (19272, 9)\n",
    "- size (8119, 9)\n",
    "- size (24487, 9)\n",
    "\n",
    "Shape of dbs in above list function - April 17, 2023\n",
    "- size (1115, 9)\n",
    "- size (10006, 9)\n",
    "- size (0, 0)\n",
    "- size (19272, 9)\n",
    "- size (8876, 9)\n",
    "- size (25434, 9)\n",
    "\n",
    "Shape of dbs in above list function - April 17, 2023\n",
    "- size (1115, 10)\n",
    "- size (10006, 10)\n",
    "- size (0, 0)\n",
    "- size (19272, 10)\n",
    "- size (9047, 10)\n",
    "- size (25884, 10)"
   ]
  },
  {
   "cell_type": "code",
   "execution_count": 30,
   "id": "5a083da9",
   "metadata": {},
   "outputs": [],
   "source": [
    "events = get_bellingcat_data()\n",
    "events_df = pd.DataFrame(events)\n",
    "# for e in events[:10]:\n",
    "#     print(f\"{e.id}: [{e.latitude}, {e.longitude}], {e.description}\")"
   ]
  },
  {
   "cell_type": "code",
   "execution_count": 6,
   "id": "60f95faa",
   "metadata": {
    "scrolled": true
   },
   "outputs": [
    {
     "data": {
      "text/html": [
       "<div>\n",
       "<style scoped>\n",
       "    .dataframe tbody tr th:only-of-type {\n",
       "        vertical-align: middle;\n",
       "    }\n",
       "\n",
       "    .dataframe tbody tr th {\n",
       "        vertical-align: top;\n",
       "    }\n",
       "\n",
       "    .dataframe thead th {\n",
       "        text-align: right;\n",
       "    }\n",
       "</style>\n",
       "<table border=\"1\" class=\"dataframe\">\n",
       "  <thead>\n",
       "    <tr style=\"text-align: right;\">\n",
       "      <th></th>\n",
       "      <th>id</th>\n",
       "      <th>date</th>\n",
       "      <th>latitude</th>\n",
       "      <th>longitude</th>\n",
       "      <th>place_desc</th>\n",
       "      <th>title</th>\n",
       "      <th>description</th>\n",
       "      <th>source</th>\n",
       "      <th>links</th>\n",
       "      <th>filters</th>\n",
       "    </tr>\n",
       "  </thead>\n",
       "  <tbody>\n",
       "    <tr>\n",
       "      <th>0</th>\n",
       "      <td>CIV0001</td>\n",
       "      <td>2022-02-24</td>\n",
       "      <td>49.850050</td>\n",
       "      <td>36.659031</td>\n",
       "      <td>Chuhuiv, south of Kharkiv</td>\n",
       "      <td>None</td>\n",
       "      <td>Apartment block hit. Crater is very large, pos...</td>\n",
       "      <td>BELLINGCAT</td>\n",
       "      <td>[https://twitter.com/Michael1Sheldon/status/14...</td>\n",
       "      <td>[{'key': 'Type of area affected', 'value': 'Re...</td>\n",
       "    </tr>\n",
       "    <tr>\n",
       "      <th>1</th>\n",
       "      <td>CIV0002</td>\n",
       "      <td>2022-02-24</td>\n",
       "      <td>48.748564</td>\n",
       "      <td>30.218515</td>\n",
       "      <td>Uman</td>\n",
       "      <td>None</td>\n",
       "      <td>Civilians hit by what appears to have been art...</td>\n",
       "      <td>BELLINGCAT</td>\n",
       "      <td>[https://twitter.com/ragipsoylu/status/1496737...</td>\n",
       "      <td>[{'key': 'Type of area affected', 'value': 'Co...</td>\n",
       "    </tr>\n",
       "    <tr>\n",
       "      <th>2</th>\n",
       "      <td>CIV0003</td>\n",
       "      <td>2022-02-24</td>\n",
       "      <td>50.470055</td>\n",
       "      <td>30.527381</td>\n",
       "      <td>Kyiv</td>\n",
       "      <td>None</td>\n",
       "      <td>Explosion in central Kyiv, nothing further yet.</td>\n",
       "      <td>BELLINGCAT</td>\n",
       "      <td>[https://twitter.com/FannyFacsar/status/149678...</td>\n",
       "      <td>[{'key': 'Type of area affected', 'value': 'Un...</td>\n",
       "    </tr>\n",
       "    <tr>\n",
       "      <th>3</th>\n",
       "      <td>CIV0004</td>\n",
       "      <td>2022-02-24</td>\n",
       "      <td>47.775537</td>\n",
       "      <td>37.239601</td>\n",
       "      <td>Vuhledar</td>\n",
       "      <td>None</td>\n",
       "      <td>Explosion in central Kyiv, nothing further yet.</td>\n",
       "      <td>BELLINGCAT</td>\n",
       "      <td>[https://twitter.com/IBN_MOHAMMAD/status/14967...</td>\n",
       "      <td>[{'key': 'Type of area affected', 'value': 'He...</td>\n",
       "    </tr>\n",
       "    <tr>\n",
       "      <th>4</th>\n",
       "      <td>CIV0007</td>\n",
       "      <td>2022-02-24</td>\n",
       "      <td>46.227890</td>\n",
       "      <td>34.642830</td>\n",
       "      <td>Semihatka/Henichesk</td>\n",
       "      <td>None</td>\n",
       "      <td>[Graphic: Image shows a dead child wrapped in ...</td>\n",
       "      <td>BELLINGCAT</td>\n",
       "      <td>[https://twitter.com/GayanaYuksel/status/14968...</td>\n",
       "      <td>[{'key': 'Type of area affected', 'value': 'Un...</td>\n",
       "    </tr>\n",
       "  </tbody>\n",
       "</table>\n",
       "</div>"
      ],
      "text/plain": [
       "        id       date   latitude  longitude                 place_desc title  \\\n",
       "0  CIV0001 2022-02-24  49.850050  36.659031  Chuhuiv, south of Kharkiv  None   \n",
       "1  CIV0002 2022-02-24  48.748564  30.218515                       Uman  None   \n",
       "2  CIV0003 2022-02-24  50.470055  30.527381                       Kyiv  None   \n",
       "3  CIV0004 2022-02-24  47.775537  37.239601                   Vuhledar  None   \n",
       "4  CIV0007 2022-02-24  46.227890  34.642830        Semihatka/Henichesk  None   \n",
       "\n",
       "                                         description      source  \\\n",
       "0  Apartment block hit. Crater is very large, pos...  BELLINGCAT   \n",
       "1  Civilians hit by what appears to have been art...  BELLINGCAT   \n",
       "2    Explosion in central Kyiv, nothing further yet.  BELLINGCAT   \n",
       "3    Explosion in central Kyiv, nothing further yet.  BELLINGCAT   \n",
       "4  [Graphic: Image shows a dead child wrapped in ...  BELLINGCAT   \n",
       "\n",
       "                                               links  \\\n",
       "0  [https://twitter.com/Michael1Sheldon/status/14...   \n",
       "1  [https://twitter.com/ragipsoylu/status/1496737...   \n",
       "2  [https://twitter.com/FannyFacsar/status/149678...   \n",
       "3  [https://twitter.com/IBN_MOHAMMAD/status/14967...   \n",
       "4  [https://twitter.com/GayanaYuksel/status/14968...   \n",
       "\n",
       "                                             filters  \n",
       "0  [{'key': 'Type of area affected', 'value': 'Re...  \n",
       "1  [{'key': 'Type of area affected', 'value': 'Co...  \n",
       "2  [{'key': 'Type of area affected', 'value': 'Un...  \n",
       "3  [{'key': 'Type of area affected', 'value': 'He...  \n",
       "4  [{'key': 'Type of area affected', 'value': 'Un...  "
      ]
     },
     "execution_count": 6,
     "metadata": {},
     "output_type": "execute_result"
    }
   ],
   "source": [
    "events_df.head()"
   ]
  },
  {
   "cell_type": "markdown",
   "id": "7b5e1bc1",
   "metadata": {},
   "source": [
    "What I discovered by just downloading the entire JSON is that there is a filter dictionary within each entry that contains a list of sources and the type of activity. I need to see if I can pull that JSON into the notebook. This package function only extracts the JSON of data for the entry in the DB, and misses the filter information."
   ]
  },
  {
   "cell_type": "code",
   "execution_count": 8,
   "id": "b4488668",
   "metadata": {},
   "outputs": [
    {
     "data": {
      "text/plain": [
       "(1115, 9)"
      ]
     },
     "execution_count": 8,
     "metadata": {},
     "output_type": "execute_result"
    }
   ],
   "source": [
    "events_df.shape"
   ]
  },
  {
   "cell_type": "code",
   "execution_count": 9,
   "id": "8ca55397",
   "metadata": {},
   "outputs": [],
   "source": [
    "data = events[:40]"
   ]
  },
  {
   "cell_type": "code",
   "execution_count": 15,
   "id": "877e22b4",
   "metadata": {},
   "outputs": [
    {
     "data": {
      "text/plain": [
       "list"
      ]
     },
     "execution_count": 15,
     "metadata": {},
     "output_type": "execute_result"
    }
   ],
   "source": [
    "type(data)"
   ]
  },
  {
   "cell_type": "code",
   "execution_count": 31,
   "id": "449fd291",
   "metadata": {},
   "outputs": [],
   "source": [
    "events_df.to_csv('bellingcat.csv', index = False)"
   ]
  },
  {
   "cell_type": "code",
   "execution_count": 7,
   "id": "c375f9b7",
   "metadata": {},
   "outputs": [],
   "source": [
    "events = get_texty_data()\n",
    "events_df = pd.DataFrame(events)\n",
    "events_df.to_csv('texty.csv', index = False)"
   ]
  },
  {
   "cell_type": "code",
   "execution_count": 8,
   "id": "6c5b4fcf",
   "metadata": {},
   "outputs": [
    {
     "data": {
      "text/html": [
       "<div>\n",
       "<style scoped>\n",
       "    .dataframe tbody tr th:only-of-type {\n",
       "        vertical-align: middle;\n",
       "    }\n",
       "\n",
       "    .dataframe tbody tr th {\n",
       "        vertical-align: top;\n",
       "    }\n",
       "\n",
       "    .dataframe thead th {\n",
       "        text-align: right;\n",
       "    }\n",
       "</style>\n",
       "<table border=\"1\" class=\"dataframe\">\n",
       "  <thead>\n",
       "    <tr style=\"text-align: right;\">\n",
       "      <th></th>\n",
       "      <th>id</th>\n",
       "      <th>date</th>\n",
       "      <th>latitude</th>\n",
       "      <th>longitude</th>\n",
       "      <th>place_desc</th>\n",
       "      <th>title</th>\n",
       "      <th>description</th>\n",
       "      <th>source</th>\n",
       "      <th>links</th>\n",
       "      <th>filters</th>\n",
       "    </tr>\n",
       "  </thead>\n",
       "  <tbody>\n",
       "    <tr>\n",
       "      <th>25879</th>\n",
       "      <td>None</td>\n",
       "      <td>2023-04-19</td>\n",
       "      <td>46.642848</td>\n",
       "      <td>32.631768</td>\n",
       "      <td>Будівля підприємства критичної інфраструктури ...</td>\n",
       "      <td>Херсон</td>\n",
       "      <td>None</td>\n",
       "      <td>TEXTY</td>\n",
       "      <td>[https://www.pravda.com.ua/news/2023/04/19/739...</td>\n",
       "      <td>[]</td>\n",
       "    </tr>\n",
       "    <tr>\n",
       "      <th>25880</th>\n",
       "      <td>None</td>\n",
       "      <td>2023-04-19</td>\n",
       "      <td>46.865619</td>\n",
       "      <td>33.575855</td>\n",
       "      <td>Херсонська</td>\n",
       "      <td>Зміївка</td>\n",
       "      <td>None</td>\n",
       "      <td>TEXTY</td>\n",
       "      <td>[https://www.pravda.com.ua/news/2023/04/20/739...</td>\n",
       "      <td>[]</td>\n",
       "    </tr>\n",
       "    <tr>\n",
       "      <th>25881</th>\n",
       "      <td>None</td>\n",
       "      <td>2023-04-19</td>\n",
       "      <td>46.750323</td>\n",
       "      <td>33.017671</td>\n",
       "      <td>Херсонська</td>\n",
       "      <td>Іванівка</td>\n",
       "      <td>None</td>\n",
       "      <td>TEXTY</td>\n",
       "      <td>[https://www.pravda.com.ua/news/2023/04/20/739...</td>\n",
       "      <td>[]</td>\n",
       "    </tr>\n",
       "    <tr>\n",
       "      <th>25882</th>\n",
       "      <td>None</td>\n",
       "      <td>2023-04-19</td>\n",
       "      <td>46.706394</td>\n",
       "      <td>32.690588</td>\n",
       "      <td>Херсонська</td>\n",
       "      <td>Інженерне</td>\n",
       "      <td>None</td>\n",
       "      <td>TEXTY</td>\n",
       "      <td>[https://www.pravda.com.ua/news/2023/04/20/739...</td>\n",
       "      <td>[]</td>\n",
       "    </tr>\n",
       "    <tr>\n",
       "      <th>25883</th>\n",
       "      <td>None</td>\n",
       "      <td>2023-04-19</td>\n",
       "      <td>46.590002</td>\n",
       "      <td>32.465159</td>\n",
       "      <td>Херсонська</td>\n",
       "      <td>Дніпровське</td>\n",
       "      <td>None</td>\n",
       "      <td>TEXTY</td>\n",
       "      <td>[https://www.pravda.com.ua/news/2023/04/20/739...</td>\n",
       "      <td>[]</td>\n",
       "    </tr>\n",
       "  </tbody>\n",
       "</table>\n",
       "</div>"
      ],
      "text/plain": [
       "         id       date   latitude  longitude  \\\n",
       "25879  None 2023-04-19  46.642848  32.631768   \n",
       "25880  None 2023-04-19  46.865619  33.575855   \n",
       "25881  None 2023-04-19  46.750323  33.017671   \n",
       "25882  None 2023-04-19  46.706394  32.690588   \n",
       "25883  None 2023-04-19  46.590002  32.465159   \n",
       "\n",
       "                                              place_desc         title  \\\n",
       "25879  Будівля підприємства критичної інфраструктури ...        Херсон   \n",
       "25880                                         Херсонська       Зміївка   \n",
       "25881                                         Херсонська     Іванівка    \n",
       "25882                                         Херсонська    Інженерне    \n",
       "25883                                         Херсонська  Дніпровське    \n",
       "\n",
       "      description source                                              links  \\\n",
       "25879        None  TEXTY  [https://www.pravda.com.ua/news/2023/04/19/739...   \n",
       "25880        None  TEXTY  [https://www.pravda.com.ua/news/2023/04/20/739...   \n",
       "25881        None  TEXTY  [https://www.pravda.com.ua/news/2023/04/20/739...   \n",
       "25882        None  TEXTY  [https://www.pravda.com.ua/news/2023/04/20/739...   \n",
       "25883        None  TEXTY  [https://www.pravda.com.ua/news/2023/04/20/739...   \n",
       "\n",
       "      filters  \n",
       "25879      []  \n",
       "25880      []  \n",
       "25881      []  \n",
       "25882      []  \n",
       "25883      []  "
      ]
     },
     "execution_count": 8,
     "metadata": {},
     "output_type": "execute_result"
    }
   ],
   "source": [
    "events_df.tail()"
   ]
  },
  {
   "cell_type": "code",
   "execution_count": 10,
   "id": "8e753f29",
   "metadata": {},
   "outputs": [],
   "source": [
    "#texty data is in cyrillic, so it's unreadable. In addition, the sources are largely from pravda, which is a Ukrainian state publication\n",
    "#maybe I can look at creating a translator, but I am also unsure if I want to use this source for the capstone"
   ]
  },
  {
   "cell_type": "markdown",
   "id": "876ec702",
   "metadata": {},
   "source": [
    "@Geoconfirmed has an api to directly gather all displayed data from the web map in a JSON format:\n",
    "https://geoconfirmed.azurewebsites.net/api/placemark/Ukraine\n",
    "\n",
    "It has a classification engine in a key called \"icon\", which determines what image is placed on the map. This seems to be the way the data is labeled, and it has an actor and an ID contained within this label. I could either\n",
    "* use this icon to train a classification model (because this would be the Y value in the data). **or**\n",
    "* use the icon as a variable to train a classification model on new classes \n",
    "\n",
    "I think I am going to go with the second option. There are a lot of different types of classifications to have to parse through from the application, and including it as a variable in the classification model might be more beneficial."
   ]
  },
  {
   "cell_type": "code",
   "execution_count": 5,
   "id": "eeb5c801",
   "metadata": {},
   "outputs": [],
   "source": [
    "res = re.get('https://geoconfirmed.azurewebsites.net/api/placemark/Ukraine')"
   ]
  },
  {
   "cell_type": "code",
   "execution_count": 6,
   "id": "6ef4b858",
   "metadata": {},
   "outputs": [
    {
     "data": {
      "text/plain": [
       "200"
      ]
     },
     "execution_count": 6,
     "metadata": {},
     "output_type": "execute_result"
    }
   ],
   "source": [
    "res.status_code"
   ]
  },
  {
   "cell_type": "code",
   "execution_count": 8,
   "id": "0b179738",
   "metadata": {},
   "outputs": [],
   "source": [
    "geoconfirmed_json = res.json()"
   ]
  },
  {
   "cell_type": "code",
   "execution_count": 12,
   "id": "13a76718",
   "metadata": {},
   "outputs": [
    {
     "data": {
      "text/plain": [
       "list"
      ]
     },
     "execution_count": 12,
     "metadata": {},
     "output_type": "execute_result"
    }
   ],
   "source": [
    "type(geoconfirmed_json) #oh, it is a list with nested dictionaries, like in the SQL Hackathon"
   ]
  },
  {
   "cell_type": "code",
   "execution_count": 20,
   "id": "ea7b5a04",
   "metadata": {},
   "outputs": [
    {
     "data": {
      "text/plain": [
       "{'id': '2a7346f5-520e-4b43-1414-08dabc42150c',\n",
       " 'date': '2022-02-26T13:00:00',\n",
       " 'name': '26 1300 FEB 2022 - PIC - Destroyed Russian Armor in #Monachynivka, 26 FEB 2022',\n",
       " 'description': 'https://twitter.com/naalsio26/status/1516967470577373185 <br><br>Geo: <br>https://twitter.com/GeoConfirmed/status/1517627835724218368',\n",
       " 'coordinates': [49.819446, 37.5335],\n",
       " 'icon': '_CIRCLES_E00000_RU_56_42.png',\n",
       " 'originalSource': 'https://twitter.com/naalsio26/status/1516967470577373185',\n",
       " 'geolocation': 'https://twitter.com/GeoConfirmed/status/1517627835724218368',\n",
       " 'origin': 1,\n",
       " 'allGeolocations': False}"
      ]
     },
     "execution_count": 20,
     "metadata": {},
     "output_type": "execute_result"
    }
   ],
   "source": [
    "geoconfirmed_json[200]"
   ]
  },
  {
   "cell_type": "code",
   "execution_count": 21,
   "id": "eacb3595",
   "metadata": {},
   "outputs": [],
   "source": [
    "\"\"\"I can do what I did in the SQL Hackathon to break this into a series of lists that can be columnized into a pandas dataframe and exported\n",
    "The data are not as neatly organized as they are from the geo extractor, but, the geoextractor is missing the icon column\n",
    "I can join the icon column to the main geoconfirmed dataframe so that way it is included\n",
    "\"\"\"\n",
    "geoconfirmed_id = []\n",
    "icon = []\n",
    "\n",
    "for i in geoconfirmed_json:    \n",
    "    geoconfirmed_id.append(i['id'])\n",
    "    icon.append(i['icon'])"
   ]
  },
  {
   "cell_type": "code",
   "execution_count": 25,
   "id": "e750045b",
   "metadata": {},
   "outputs": [],
   "source": [
    "geoconfirmed_df = pd.DataFrame({'geoconfirmed_id': geoconfirmed_id, 'icon': icon})"
   ]
  },
  {
   "cell_type": "code",
   "execution_count": 32,
   "id": "f6f9b8ec",
   "metadata": {},
   "outputs": [],
   "source": [
    "events = get_geoconfirmed_data()"
   ]
  },
  {
   "cell_type": "code",
   "execution_count": 33,
   "id": "a4a0cf2d",
   "metadata": {},
   "outputs": [],
   "source": [
    "events_df = pd.DataFrame(events)"
   ]
  },
  {
   "cell_type": "code",
   "execution_count": 36,
   "id": "7e8be5aa",
   "metadata": {},
   "outputs": [],
   "source": [
    "#merge geoconfirmed_df and events_df\n",
    "merged_geo_df = geoconfirmed_df.merge(events_df, left_on = 'geoconfirmed_id', right_on = 'id')"
   ]
  },
  {
   "cell_type": "code",
   "execution_count": 37,
   "id": "f0a1a4a2",
   "metadata": {},
   "outputs": [],
   "source": [
    "#dataframe and export\n",
    "merged_geo_df.to_csv('get_geoconfirmed_data.csv', index = False)"
   ]
  },
  {
   "cell_type": "code",
   "execution_count": 38,
   "id": "45979569",
   "metadata": {},
   "outputs": [],
   "source": [
    "events = get_ceninfores_data()\n",
    "events_df = pd.DataFrame(events)\n",
    "events_df.to_csv('ceninfores.csv', index = False)"
   ]
  },
  {
   "cell_type": "code",
   "execution_count": 39,
   "id": "7caff83a",
   "metadata": {},
   "outputs": [],
   "source": [
    "events = get_defmon_spreadsheet_data()\n",
    "events_df = pd.DataFrame(events)\n",
    "events_df.to_csv('defmon.csv', index = False)"
   ]
  },
  {
   "cell_type": "code",
   "execution_count": null,
   "id": "00a0a360",
   "metadata": {},
   "outputs": [],
   "source": []
  }
 ],
 "metadata": {
  "kernelspec": {
   "display_name": "Python 3 (ipykernel)",
   "language": "python",
   "name": "python3"
  },
  "language_info": {
   "codemirror_mode": {
    "name": "ipython",
    "version": 3
   },
   "file_extension": ".py",
   "mimetype": "text/x-python",
   "name": "python",
   "nbconvert_exporter": "python",
   "pygments_lexer": "ipython3",
   "version": "3.9.13"
  }
 },
 "nbformat": 4,
 "nbformat_minor": 5
}
