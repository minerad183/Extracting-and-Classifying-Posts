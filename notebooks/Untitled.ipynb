{
 "cells": [
  {
   "cell_type": "markdown",
   "id": "7d74f217",
   "metadata": {},
   "source": [
    "# Pickling the Model\n",
    "\n",
    "This notebook is to wrap the clustering model and save as a pickle file for applying in the web application."
   ]
  },
  {
   "cell_type": "code",
   "execution_count": null,
   "id": "f41c7fe3",
   "metadata": {},
   "outputs": [],
   "source": [
    "from sklearn.feature_extraction.text import TfidfVectorizer\n",
    "from sklearn.cluster import KMeans\n",
    "import pandas as pd\n",
    "from nltk.corpus import stopwords\n",
    "from nltk.stem import SnowballStemmer\n",
    "import re\n",
    "from sklearn.metrics import silhouette_score\n",
    "from sklearn.metrics.pairwise import cosine_similarity\n",
    "import matplotlib.pyplot as plt\n",
    "from gensim import utils\n",
    "from gensim.models import Doc2Vec\n",
    "from wordcloud import WordCloud, STOPWORDS, ImageColorGenerator\n",
    "import os\n",
    "import pickle"
   ]
  },
  {
   "cell_type": "code",
   "execution_count": null,
   "id": "457c0078",
   "metadata": {},
   "outputs": [],
   "source": [
    "# Recreate model as a function\n",
    "\n",
    "def classification_function(input_text):\n",
    "    bellingcat_df = pd.read_csv('../data/bellingcat.csv')\n",
    "    ceninfores = pd.read_csv('../data/ceninfores.csv')\n",
    "    get_geoconfirmed_data = pd.read_csv('../data/get_geoconfirmed_data.csv')\n",
    "    defmon = pd.read_csv('../data/defmon.csv')\n",
    "    stpwrd = stopwords.words('english')\n",
    "    new_stopwords = [\"twitter\", 'geoconfirmed', 'com', 'br', 'https', 'geo', 'png',\n",
    "                 'status', 'vid', 'f', 'jan', 'feb', 'mar', 'apr', 'may', 'jun', 'jul', 'aug', \n",
    "                'sep', 'oct', 'nov', 'dec', 'Æ', 'ô', 'ö', 'ò', 'û', 'ù', 'ÿ', 'á', 'í', 'ó', 'ú', 'ñ', 'Ñ', 'Š', 'š', 'ý', 'ü',\n",
    "                'õ', 'ð', 'ã', 'Ý', 'Ü', 'Û', 'Ú', 'Ù', 'Ï', 'Î', 'Í', 'Ì', 'Ë', 'Ê', 'É', 'È', 'Å', 'Ä', 'Ã', 'Â', 'Á', 'À', 'Ö', 'Õ', 'Ô','Ó', 'Ò',\n",
    "                'ÂƒÆ', 'â', 'Âƒâ', 'šâ', 'šÂ', 'Ž', 'žÂ', 'ÃƒÆ', 'Ãƒâ', 'ƒ', 'šÃ'  ]\n",
    "    stpwrd.extend(new_stopwords)\n",
    "    "
   ]
  }
 ],
 "metadata": {
  "kernelspec": {
   "display_name": "Python 3 (ipykernel)",
   "language": "python",
   "name": "python3"
  },
  "language_info": {
   "codemirror_mode": {
    "name": "ipython",
    "version": 3
   },
   "file_extension": ".py",
   "mimetype": "text/x-python",
   "name": "python",
   "nbconvert_exporter": "python",
   "pygments_lexer": "ipython3",
   "version": "3.9.16"
  }
 },
 "nbformat": 4,
 "nbformat_minor": 5
}
